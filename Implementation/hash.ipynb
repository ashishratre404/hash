{
    "cells": [
        {
            "cell_type": "code",
            "execution_count": 27,
            "source": [
                "# Hash-Map for non-collision item"
            ],
            "outputs": [],
            "metadata": {}
        },
        {
            "cell_type": "code",
            "execution_count": 28,
            "source": [
                "class HashTable:\r\n",
                "    def __init__(self) -> None:\r\n",
                "        self.max = 10\r\n",
                "        self.arr = [[] for i in range(self.max)]\r\n",
                "    \r\n",
                "    def get_hash(self, key):\r\n",
                "        h = 0\r\n",
                "        for char in key:\r\n",
                "            h += ord(char)\r\n",
                "        return h % self.max\r\n",
                "\r\n",
                "    # def add(self,key,val):\r\n",
                "    def __setitem__(self,key,val):\r\n",
                "        h = self.get_hash(key)\r\n",
                "        found = False\r\n",
                "        for idx, elm in enumerate(self.arr[h]):\r\n",
                "            if len(elm) == 2 and elm[0] == key:\r\n",
                "                self.arr[h][idx] = (key, val)\r\n",
                "                found = True\r\n",
                "                break\r\n",
                "        if not found:\r\n",
                "            self.arr[h].append((key, val))\r\n",
                "\r\n",
                "    # def get(self,key,val):\r\n",
                "    def __getitem__(self, key):\r\n",
                "        h = self.get_hash(key)\r\n",
                "        for element in self.arr[h]:\r\n",
                "            if element[0] == key:\r\n",
                "                return element[1]\r\n",
                "\r\n",
                "    # def del(self,key,val):    \r\n",
                "    def __delitem__(self, key):\r\n",
                "        h = self.get_hash(key)\r\n",
                "        for idx, elem in enumerate(self.arr[h]):\r\n",
                "            if elem[0] == key:\r\n",
                "                del self.arr[h][idx]"
            ],
            "outputs": [],
            "metadata": {}
        },
        {
            "cell_type": "code",
            "execution_count": 29,
            "source": [
                "t = HashTable()\r\n",
                "\r\n",
                "# t.add('march 6', 120)  isntead of calling t.add every time if we want to directly write t['key'] = val then use python standard operator __getitem__\r\n",
                "t['march 6'] = 120\r\n",
                "t['dec 6'] = 189\r\n",
                "t['feb 18'] = 166\r\n",
                "t['apr 1'] = 166\r\n",
                "t['march 17'] = 170\r\n",
                "t['march 5'] = 170"
            ],
            "outputs": [],
            "metadata": {}
        },
        {
            "cell_type": "code",
            "execution_count": 30,
            "source": [
                "t.arr"
            ],
            "outputs": [
                {
                    "output_type": "execute_result",
                    "data": {
                        "text/plain": [
                            "[[],\n",
                            " [],\n",
                            " [],\n",
                            " [],\n",
                            " [('apr 1', 166)],\n",
                            " [],\n",
                            " [('dec 6', 189)],\n",
                            " [],\n",
                            " [('feb 18', 166), ('march 5', 170)],\n",
                            " [('march 6', 120), ('march 17', 170)]]"
                        ]
                    },
                    "metadata": {},
                    "execution_count": 30
                }
            ],
            "metadata": {}
        },
        {
            "cell_type": "code",
            "execution_count": 31,
            "source": [
                "t['march 6']"
            ],
            "outputs": [
                {
                    "output_type": "execute_result",
                    "data": {
                        "text/plain": [
                            "120"
                        ]
                    },
                    "metadata": {},
                    "execution_count": 31
                }
            ],
            "metadata": {}
        },
        {
            "cell_type": "code",
            "execution_count": 32,
            "source": [
                "del t['march 6']"
            ],
            "outputs": [],
            "metadata": {}
        },
        {
            "cell_type": "code",
            "execution_count": 33,
            "source": [
                "t.arr"
            ],
            "outputs": [
                {
                    "output_type": "execute_result",
                    "data": {
                        "text/plain": [
                            "[[],\n",
                            " [],\n",
                            " [],\n",
                            " [],\n",
                            " [('apr 1', 166)],\n",
                            " [],\n",
                            " [('dec 6', 189)],\n",
                            " [],\n",
                            " [('feb 18', 166), ('march 5', 170)],\n",
                            " [('march 17', 170)]]"
                        ]
                    },
                    "metadata": {},
                    "execution_count": 33
                }
            ],
            "metadata": {}
        }
    ],
    "metadata": {
        "orig_nbformat": 4,
        "language_info": {
            "name": "python",
            "version": "3.9.5",
            "mimetype": "text/x-python",
            "codemirror_mode": {
                "name": "ipython",
                "version": 3
            },
            "pygments_lexer": "ipython3",
            "nbconvert_exporter": "python",
            "file_extension": ".py"
        },
        "kernelspec": {
            "name": "python3",
            "display_name": "Python 3.9.5 64-bit"
        },
        "interpreter": {
            "hash": "e16b9bd33e7041c0842013505aab8d96e59e427e4e0c80436ba1b7c1f34f93b5"
        }
    },
    "nbformat": 4,
    "nbformat_minor": 2
}